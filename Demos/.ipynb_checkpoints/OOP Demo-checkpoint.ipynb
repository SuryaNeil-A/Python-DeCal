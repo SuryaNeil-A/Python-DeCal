{
 "cells": [
  {
   "cell_type": "code",
   "execution_count": 3,
   "id": "4b5d94f4",
   "metadata": {},
   "outputs": [],
   "source": [
    "class Animal:\n",
    "    def __init__(self, species, name, age):\n",
    "        self.species = species\n",
    "        self.name = name\n",
    "        self.age = age\n",
    "    \n",
    "    def eat(self):\n",
    "        print(self.name, \"is eating.\")\n",
    "    \n",
    "    def make_noise(self, noise):\n",
    "        print(noise)\n",
    "    \n",
    "    def rename(self, new_name):\n",
    "        self.name = new_name"
   ]
  },
  {
   "cell_type": "code",
   "execution_count": 5,
   "id": "b4b6ce90",
   "metadata": {},
   "outputs": [],
   "source": [
    "cat = Animal(\"Cat\", \"Prince\", 1.5)"
   ]
  },
  {
   "cell_type": "code",
   "execution_count": 12,
   "id": "94f238b3",
   "metadata": {},
   "outputs": [
    {
     "data": {
      "text/plain": [
       "'Cat'"
      ]
     },
     "execution_count": 12,
     "metadata": {},
     "output_type": "execute_result"
    }
   ],
   "source": [
    "cat.species"
   ]
  },
  {
   "cell_type": "code",
   "execution_count": 16,
   "id": "01a592fd",
   "metadata": {},
   "outputs": [],
   "source": [
    "cat.rename(\"Princess\")"
   ]
  },
  {
   "cell_type": "code",
   "execution_count": 17,
   "id": "48b1dfc3",
   "metadata": {},
   "outputs": [
    {
     "data": {
      "text/plain": [
       "'Princess'"
      ]
     },
     "execution_count": 17,
     "metadata": {},
     "output_type": "execute_result"
    }
   ],
   "source": [
    "cat.name"
   ]
  },
  {
   "cell_type": "code",
   "execution_count": 20,
   "id": "c35fca37",
   "metadata": {},
   "outputs": [
    {
     "name": "stdout",
     "output_type": "stream",
     "text": [
      "nyah\n"
     ]
    }
   ],
   "source": [
    "cat.make_noise(\"nyah\")"
   ]
  },
  {
   "cell_type": "code",
   "execution_count": 50,
   "id": "406498ea",
   "metadata": {},
   "outputs": [],
   "source": [
    "class Tardigrade(Animal):\n",
    "    def __init__(self, species, name, age, habitat):\n",
    "        super().__init__(species, name, age)\n",
    "        self.habitat = habitat\n",
    "        \n",
    "    def sit_there(self):\n",
    "        print(self.name, \"is sitting there\")\n",
    "        \n",
    "    def colonize(self):\n",
    "        print(self.name, \"has colonized\", self.habitat)\n",
    "    \n",
    "    def eat(self):\n",
    "        print(self.name, \"is eating like a Tardigrade\")"
   ]
  },
  {
   "cell_type": "code",
   "execution_count": 51,
   "id": "6e0e9783",
   "metadata": {},
   "outputs": [],
   "source": [
    "greag = Tardigrade(\"Tardigrade\", \"Greag\", \"4000\", \"Hydrothermic Vents\")"
   ]
  },
  {
   "cell_type": "code",
   "execution_count": 52,
   "id": "5175e09f",
   "metadata": {},
   "outputs": [
    {
     "data": {
      "text/plain": [
       "'Greag'"
      ]
     },
     "execution_count": 52,
     "metadata": {},
     "output_type": "execute_result"
    }
   ],
   "source": [
    "greag.name"
   ]
  },
  {
   "cell_type": "code",
   "execution_count": 53,
   "id": "f86e0ed2",
   "metadata": {},
   "outputs": [
    {
     "data": {
      "text/plain": [
       "'Hydrothermic Vents'"
      ]
     },
     "execution_count": 53,
     "metadata": {},
     "output_type": "execute_result"
    }
   ],
   "source": [
    "greag.habitat"
   ]
  },
  {
   "cell_type": "code",
   "execution_count": 54,
   "id": "2849f601",
   "metadata": {},
   "outputs": [
    {
     "name": "stdout",
     "output_type": "stream",
     "text": [
      "Greag has colonized Hydrothermic Vents\n"
     ]
    }
   ],
   "source": [
    "greag.colonize()"
   ]
  },
  {
   "cell_type": "code",
   "execution_count": 55,
   "id": "5ea00cb7",
   "metadata": {},
   "outputs": [
    {
     "name": "stdout",
     "output_type": "stream",
     "text": [
      "Hello I am Greag\n"
     ]
    }
   ],
   "source": [
    "greag.make_noise(\"Hello I am Greag\")"
   ]
  },
  {
   "cell_type": "code",
   "execution_count": 56,
   "id": "e635b2a6",
   "metadata": {},
   "outputs": [
    {
     "name": "stdout",
     "output_type": "stream",
     "text": [
      "Greag is eating like a Tardigrade\n"
     ]
    }
   ],
   "source": [
    "greag.eat()"
   ]
  }
 ],
 "metadata": {
  "kernelspec": {
   "display_name": "Python 3 (ipykernel)",
   "language": "python",
   "name": "python3"
  },
  "language_info": {
   "codemirror_mode": {
    "name": "ipython",
    "version": 3
   },
   "file_extension": ".py",
   "mimetype": "text/x-python",
   "name": "python",
   "nbconvert_exporter": "python",
   "pygments_lexer": "ipython3",
   "version": "3.11.4"
  }
 },
 "nbformat": 4,
 "nbformat_minor": 5
}
