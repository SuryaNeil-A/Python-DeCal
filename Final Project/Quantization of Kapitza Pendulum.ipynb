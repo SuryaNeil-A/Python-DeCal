{
 "cells": [
  {
   "cell_type": "code",
   "execution_count": 641,
   "id": "ad9f9ef3",
   "metadata": {},
   "outputs": [],
   "source": [
    "import numpy as np\n",
    "import matplotlib.pyplot as plt\n",
    "%matplotlib qt\n",
    "import scipy\n",
    "from scipy import constants\n",
    "from scipy import stats\n",
    "from scipy import optimize as fit"
   ]
  },
  {
   "cell_type": "code",
   "execution_count": 707,
   "id": "11899fc1",
   "metadata": {},
   "outputs": [],
   "source": [
    "#initializing all the variables\n",
    "\n",
    "m = 1 #mass of the particle\n",
    "w = 1 #frequency of oscillation\n",
    "Length = 43 #length of\n",
    "n = 500 #number of position sites\n",
    "h_bar = 1 #setting the frequency, mass, and hbar to be 1 for convenience\n",
    "a = 1 #amplitude of driving\n",
    "gamma = 200 #frequency of driving, want this to be much bigger than w"
   ]
  },
  {
   "cell_type": "code",
   "execution_count": 678,
   "id": "3d446345",
   "metadata": {},
   "outputs": [],
   "source": [
    "#Numerically by Perturbation\n",
    "\n",
    "def KP_Energies(hbar, mass, frequency, length, position_sites, amplitude, driving_frequency):\n",
    "    \n",
    "    #analytically calculated for ladder operator method\n",
    "    w1_tilde = np.emath.sqrt((2*(frequency**2))+((4*(amplitude**2)*(driving_frequency**2))/(mass*(length**2)))) \n",
    "    w2_tilde = np.emath.sqrt(((-2)*(frequency**2))+((4*(amplitude**2)*(driving_frequency**2))/(mass*(length**2))))\n",
    "\n",
    "    #initializing derivative and energy\n",
    "\n",
    "    #creating x derivative operator: -1 on diagonal, +1 on +1 diagonal and +1 in bottom left corner, divide by dx\n",
    "    #dx = Length / n\n",
    "    #in the end want derivative operator to give us (f(x1) - f(x0))/delta t\n",
    "\n",
    "    diag_1_x = (-1)*np.diag(np.diag(np.ones((position_sites,position_sites))))\n",
    "    diag_2_x = np.diag(np.diag(np.ones((position_sites,position_sites)),k=1), k=1)\n",
    "\n",
    "    derivative_x = diag_1_x.astype(int) + diag_2_x.astype(int)\n",
    "    derivative_x[position_sites-1,0] = 1\n",
    "    derivative_x = (position_sites/length)*derivative_x\n",
    "\n",
    "    #known formulation for second derivative\n",
    "    second_derivative_x = (position_sites/length)*(derivative_x + np.transpose(derivative_x)) \n",
    "\n",
    "    #now creating total position space which ranges from -L to L\n",
    "    position_KP = np.linspace(-length,length,position_sites)\n",
    "\n",
    "    position1_KP = np.zeros((position_sites,position_sites))\n",
    "    position2_KP = np.zeros((position_sites,position_sites))\n",
    "\n",
    "    #shifting to create two separate potentials (without overlap) at -L/2 and +L/2\n",
    "    for i in range(position_sites):\n",
    "        if i < position_sites//2:\n",
    "            position1_KP[i,i] = position_KP[i] + length/2\n",
    "        if i >= position_sites//2:\n",
    "            position2_KP[i,i] = position_KP[i] - length/2\n",
    "\n",
    "    position_squared1_KP = position1_KP@np.transpose(position1_KP)\n",
    "    position_squared2_KP = position2_KP@np.transpose(position2_KP)\n",
    "\n",
    "    #putting it all together using known formulas to calculate the Energy of the entire system\n",
    "    KineticEnergy_KP = -((hbar**2)/(2*mass))*((position_sites/length)**2)*second_derivative_x\n",
    "    PotentialEnergy1_KP = 0.5*mass*(w1_tilde**2)*position_squared1_KP\n",
    "    PotentialEnergy2_KP = 0.5*mass*(w2_tilde**2)*position_squared2_KP\n",
    "\n",
    "    Energy1_KP = KineticEnergy_KP + PotentialEnergy1_KP\n",
    "    Energy2_KP = KineticEnergy_KP + PotentialEnergy2_KP\n",
    "\n",
    "    Energy_KP = Energy1_KP + Energy2_KP\n",
    "    return Energy_KP"
   ]
  },
  {
   "cell_type": "code",
   "execution_count": 708,
   "id": "c0e964c8",
   "metadata": {},
   "outputs": [],
   "source": [
    "#calculating the spectrum of numerically calculated energy data\n",
    "Energy_data = KP_Energies(h_bar, m, w, Length, n, a, gamma)\n",
    "\n",
    "Eigenvalues_KP,Eigenvectors_KP = np.linalg.eig(Energy_data)\n",
    "\n",
    "x_data_KP = range(n)\n",
    "y_data_KP = np.sort(np.real(Eigenvalues_KP))"
   ]
  },
  {
   "cell_type": "code",
   "execution_count": 703,
   "id": "5e74cb5f",
   "metadata": {},
   "outputs": [],
   "source": [
    "#fit to linear model (based on analytically computed spectrum)\n",
    "\n",
    "parameters1 = stats.linregress(x_data_KP, y_data_KP)"
   ]
  },
  {
   "cell_type": "code",
   "execution_count": 690,
   "id": "e281b131",
   "metadata": {},
   "outputs": [],
   "source": [
    "#plotting eigenvalues\n",
    "\n",
    "plt.figure(figsize = (10,8))\n",
    "\n",
    "plt.scatter(x_data_KP,y_data_KP, s = 20, marker = \".\", color = 'orange', label = \"Eigenvalue\")\n",
    "\n",
    "plt.plot(x_data_KP, parameters1.slope*x_data_KP + parameters1.intercept, color = 'red', linewidth = 3, label = \"Linear Curve Fit\")\n",
    "\n",
    "plt.text(0.02,0.85,\"$r^2$ = \" + str(parameters1.rvalue**2), bbox=dict(facecolor='white', alpha = 0.2), transform=plt.gca().transAxes)\n",
    "plt.text(0.02,0.8,\"Curve fit: y = \" + str(parameters1.slope) + \" x + \" + str(parameters1.intercept), bbox=dict(facecolor='white', alpha = 0.2), transform=plt.gca().transAxes)\n",
    "plt.text(0.02,0.75,\"L = 43\" + \"; n = 1000\" + \"; a = 1\" + \"; $\\gamma$ = 1000\", bbox=dict(facecolor='white', alpha = 0.2), transform=plt.gca().transAxes)\n",
    "\n",
    "plt.xlabel(\"Eigenvalue Index\")\n",
    "plt.ylabel(\"Eigenvalue\")\n",
    "plt.title(\"Eigenvalues of Numerical Quantized Kapitza Pendulum\")\n",
    "plt.legend()\n",
    "\n",
    "plt.show()"
   ]
  },
  {
   "cell_type": "code",
   "execution_count": 674,
   "id": "d71a2010",
   "metadata": {
    "scrolled": true
   },
   "outputs": [],
   "source": [
    "#performing a linear fit to the data for many different driving frequencies (to test the breakdown of linearity)\n",
    "#quality of linear fit discerned by r^2\n",
    "\n",
    "gamma_range = np.linspace(1,2000,100)\n",
    "r2_array = np.zeros(len(gamma_range))\n",
    "\n",
    "for i in gamma_range:\n",
    "    Energy_data = KP_Energies(1, m, w, 43, n, 1, i)\n",
    "\n",
    "    Eigenvalues_KP,Eigenvectors_KP = np.linalg.eig(Energy_data)\n",
    "\n",
    "    x_data_KP = range(n)\n",
    "    y_data_KP = np.sort(np.real(Eigenvalues_KP))\n",
    "    \n",
    "    parameters = stats.linregress(x_data_KP, y_data_KP)\n",
    "    \n",
    "    r2_array[np.where(gamma_range == i)] = parameters.rvalue**2"
   ]
  },
  {
   "cell_type": "code",
   "execution_count": 676,
   "id": "4c5f2a43",
   "metadata": {},
   "outputs": [],
   "source": [
    "#plotting r^2 vs gamma\n",
    "\n",
    "plt.figure(figsize = (10,8))\n",
    "\n",
    "plt.scatter(gamma_range,r2_array, s = 40, marker = \"o\", color = 'orange', label = \"$r^2$ Value\")\n",
    "#plt.plot(gamma_range, gaussian(gamma_range, results[0], results[1], results[2], results[3]), color = 'red', linewidth = 3, label = \"Gaussian Curve Fit\")\n",
    "\n",
    "plt.text(0.02,0.95,\"L = 43\" + \"; n = 500\" + \"; a = 1\" + \"; $\\gamma$ = [0,2000]\", bbox=dict(facecolor='white', alpha = 0.2), transform=plt.gca().transAxes)\n",
    "\n",
    "plt.xlabel(\"$\\gamma$ Value\")\n",
    "plt.ylabel(\"$r^2$ Value\")\n",
    "plt.title(\"$r^2$ Value vs $\\gamma$ Value\")\n",
    "plt.legend()\n",
    "\n",
    "plt.show()"
   ]
  },
  {
   "cell_type": "markdown",
   "id": "496ec712",
   "metadata": {},
   "source": [
    "Now check using analytically calculated solutions"
   ]
  },
  {
   "cell_type": "code",
   "execution_count": 682,
   "id": "9902a570",
   "metadata": {},
   "outputs": [],
   "source": [
    "def AnalyticKP_Energies(hbar, mass, frequency, length, position_sites, amplitude, driving_frequency):\n",
    "    \n",
    "    #analytically calculated for ladder operator method\n",
    "    w1_tilde = np.emath.sqrt((2*(frequency**2))+((4*(amplitude**2)*(driving_frequency**2))/(mass*(length**2)))) \n",
    "    w2_tilde = np.emath.sqrt(((-2)*(frequency**2))+((4*(amplitude**2)*(driving_frequency**2))/(mass*(length**2))))\n",
    "\n",
    "    #a and a dagger are known for the ladder operator method, just coding them as is then\n",
    "    a_initialize = np.diag(np.diag(np.ones((position_sites,position_sites)),k=1),k=1)\n",
    "    row_index = np.sqrt(np.arange(position_sites))\n",
    "    a1_H = a_initialize*row_index\n",
    "    a1_dagger_H = np.transpose(a1_H)\n",
    "\n",
    "    #calculating the Hamiltonian for the two different states (centered at -L/2 and +L/2)\n",
    "    H1 = (hbar*(w1_tilde)/2)*(a1_dagger_H@a1_H + 0.5*np.identity(position_sites))\n",
    "    H2 = (hbar*(w2_tilde)/2)*(a1_dagger_H@a1_H + 0.5*np.identity(position_sites))\n",
    "\n",
    "    #necessary to cancel any overlap between the Hamiltonians (we want two separate states)\n",
    "    for i in range(position_sites):\n",
    "        if i >= position_sites//2:\n",
    "            H1[i,i] = 0\n",
    "            H2[i,i] = H2[i-position_sites//2,i-position_sites//2]\n",
    "    for i in range(position_sites):\n",
    "        if i < position_sites//2:\n",
    "            H2[i,i] = 0\n",
    "\n",
    "    #Sum for energy of entire system\n",
    "    H_final = H1 + H2\n",
    "    return H_final"
   ]
  },
  {
   "cell_type": "code",
   "execution_count": 709,
   "id": "50ba184c",
   "metadata": {},
   "outputs": [],
   "source": [
    "#calculating spectrum of analytically calculated energies\n",
    "Energy_data2 = AnalyticKP_Energies(h_bar, m, w, Length, n, a, gamma)\n",
    "Eigenvalues_H, Eigenvectors_H = np.linalg.eig(Energy_data2)\n",
    "\n",
    "x_data_H = range(n)\n",
    "y_data_H = np.sort(np.abs(Eigenvalues_H))"
   ]
  },
  {
   "cell_type": "code",
   "execution_count": 699,
   "id": "13973a69",
   "metadata": {},
   "outputs": [],
   "source": [
    "#linear regression to calculate slope, rescale by ratio of slopes to make the analytic and numerical spectra comparable\n",
    "parameters2 = stats.linregress(x_data_H, y_data_H)\n",
    "rescale_factor = parameters1.slope / parameters2.slope"
   ]
  },
  {
   "cell_type": "code",
   "execution_count": 693,
   "id": "352e9ddf",
   "metadata": {},
   "outputs": [],
   "source": [
    "plt.figure(figsize = (10,8))\n",
    "\n",
    "#plotting rescaled analytically calculated spectrum\n",
    "plt.scatter(x_data_H,y_data_H*rescale_factor, s=20,label = 'Eigenvalue', color = \"orange\", marker = \".\")\n",
    "plt.plot(x_data_H, rescale_factor*(parameters2.slope*x_data_H + parameters2.intercept), color = 'red', linewidth = 3, label = \"Linear Curve Fit\")\n",
    "\n",
    "plt.text(0.02,0.85,\"L = 43\" + \"; n = 1000\" + \"; a = 1\" + \"; $\\gamma$ = 1000\", bbox=dict(facecolor='white', alpha = 0.2), transform=plt.gca().transAxes)\n",
    "plt.xlabel(\"Eigenvalue Index\")\n",
    "plt.ylabel(\"Eigenvalue\")\n",
    "plt.title(\"Eigenvalues of Analytic Quantized Kapitza Pendulum\")\n",
    "plt.legend()\n",
    "\n",
    "plt.show()"
   ]
  },
  {
   "cell_type": "markdown",
   "id": "82b6f321",
   "metadata": {},
   "source": [
    "Finally, plot the difference between the two spectra to show comparability"
   ]
  },
  {
   "cell_type": "code",
   "execution_count": 710,
   "id": "8aa2feeb",
   "metadata": {},
   "outputs": [],
   "source": [
    "#calculating the error term between numerical and analytic eigenvalues\n",
    "\n",
    "#calculating the variance (two-point function) and using it as our y-value\n",
    "difference = np.abs((y_data_KP - (rescale_factor*y_data_H))/(y_data_H*rescale_factor))\n",
    "\n",
    "mean_difference = np.mean(difference)\n",
    "\n",
    "plt.figure(figsize = (10,8))\n",
    "\n",
    "plt.scatter(x_data_H, (difference - mean_difference)**2/(mean_difference**2), s=10, marker = \"o\", label = \"Variance\", color = \"orange\")\n",
    "#plt.plot(x_data_H, difference**2, label = \"Difference\", color = \"orange\")\n",
    "\n",
    "plt.xlabel(\"Eigenvalue Index\")\n",
    "plt.ylabel(\"Variance\")\n",
    "plt.legend()\n",
    "plt.title(\"Variance Between Numerically and Analytically Calculated Eigenvalues (Using the two-point function)\")\n",
    "\n",
    "plt.show()"
   ]
  }
 ],
 "metadata": {
  "kernelspec": {
   "display_name": "Python 3 (ipykernel)",
   "language": "python",
   "name": "python3"
  },
  "language_info": {
   "codemirror_mode": {
    "name": "ipython",
    "version": 3
   },
   "file_extension": ".py",
   "mimetype": "text/x-python",
   "name": "python",
   "nbconvert_exporter": "python",
   "pygments_lexer": "ipython3",
   "version": "3.11.4"
  }
 },
 "nbformat": 4,
 "nbformat_minor": 5
}
