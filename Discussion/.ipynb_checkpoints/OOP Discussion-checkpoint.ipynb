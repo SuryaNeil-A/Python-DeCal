{
 "cells": [
  {
   "cell_type": "code",
   "execution_count": 72,
   "id": "a2366d7f",
   "metadata": {},
   "outputs": [],
   "source": [
    "#To the Library!\n",
    "\n",
    "class Book:\n",
    "    def __init__(self, title, isbn, author, available_copies):\n",
    "        self.title = title\n",
    "        self.isbn = isbn\n",
    "        self.author = author\n",
    "        self.available_copies = available_copies\n",
    "\n",
    "class Author:\n",
    "    def __init__(self, name, birth_year):\n",
    "        self.name = name\n",
    "        self.birth_year = birth_year\n",
    "        \n",
    "class Library:\n",
    "    def __init__(self, books):\n",
    "        self.books = books\n",
    "    \n",
    "    def add_book(self, book):\n",
    "        self.books = self.books.append(book)\n",
    "    \n",
    "    def search_books_by_author(self, author_name):\n",
    "        books_with_author = []\n",
    "        for i in range(self.books):\n",
    "            if self.books[i].author == author_name:\n",
    "                books_with_author.append(self.books[i])\n",
    "        return books_with_author\n",
    "        \n",
    "    def search_available_books(self, title_keyword):\n",
    "        books_with_title = []\n",
    "        for i in range(self.books):\n",
    "            if self.books[i].title == title_keyword:\n",
    "                books_with_title.append(self.books[i])\n",
    "        return books_with_title"
   ]
  },
  {
   "cell_type": "code",
   "execution_count": 77,
   "id": "235239b7",
   "metadata": {},
   "outputs": [],
   "source": [
    "book1 = Book(\"Dune\", 99999, \"Frank Herbert\", 5)\n",
    "book2 = Book(\"Harry Potter\", 12345, \"J.K. Rowling\", 10000)\n",
    "\n",
    "library1 = Library([book1])"
   ]
  },
  {
   "cell_type": "code",
   "execution_count": 81,
   "id": "32429b32",
   "metadata": {},
   "outputs": [
    {
     "ename": "AttributeError",
     "evalue": "'NoneType' object has no attribute 'append'",
     "output_type": "error",
     "traceback": [
      "\u001b[1;31m---------------------------------------------------------------------------\u001b[0m",
      "\u001b[1;31mAttributeError\u001b[0m                            Traceback (most recent call last)",
      "Cell \u001b[1;32mIn[81], line 1\u001b[0m\n\u001b[1;32m----> 1\u001b[0m library1\u001b[38;5;241m.\u001b[39madd_book(book2)\n",
      "Cell \u001b[1;32mIn[72], line 20\u001b[0m, in \u001b[0;36mLibrary.add_book\u001b[1;34m(self, book)\u001b[0m\n\u001b[0;32m     19\u001b[0m \u001b[38;5;28;01mdef\u001b[39;00m \u001b[38;5;21madd_book\u001b[39m(\u001b[38;5;28mself\u001b[39m, book):\n\u001b[1;32m---> 20\u001b[0m     \u001b[38;5;28mself\u001b[39m\u001b[38;5;241m.\u001b[39mbooks \u001b[38;5;241m=\u001b[39m \u001b[38;5;28mself\u001b[39m\u001b[38;5;241m.\u001b[39mbooks\u001b[38;5;241m.\u001b[39mappend(book)\n",
      "\u001b[1;31mAttributeError\u001b[0m: 'NoneType' object has no attribute 'append'"
     ]
    }
   ],
   "source": [
    "library1.add_book(book2)"
   ]
  }
 ],
 "metadata": {
  "kernelspec": {
   "display_name": "Python 3 (ipykernel)",
   "language": "python",
   "name": "python3"
  },
  "language_info": {
   "codemirror_mode": {
    "name": "ipython",
    "version": 3
   },
   "file_extension": ".py",
   "mimetype": "text/x-python",
   "name": "python",
   "nbconvert_exporter": "python",
   "pygments_lexer": "ipython3",
   "version": "3.11.4"
  }
 },
 "nbformat": 4,
 "nbformat_minor": 5
}
